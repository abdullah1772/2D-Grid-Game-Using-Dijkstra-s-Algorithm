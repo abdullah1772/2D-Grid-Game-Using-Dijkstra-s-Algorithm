{
 "cells": [
  {
   "cell_type": "code",
   "execution_count": 2,
   "id": "879e5d6a",
   "metadata": {},
   "outputs": [],
   "source": [
    "import numpy as np\n",
    "import random\n",
    "from queue import PriorityQueue\n",
    "import heapq\n",
    "import matplotlib.pyplot as plt\n",
    "import pandas as pd"
   ]
  },
  {
   "cell_type": "code",
   "execution_count": 3,
   "id": "50584556",
   "metadata": {},
   "outputs": [],
   "source": [
    "def Create_Grid(n , m):\n",
    "    \n",
    "    print(\"Creating Grid\\n\")\n",
    "    \n",
    "    #Creating a 2D-List for the grid\n",
    "    Grid = [[0 for i in range(int(Width))] for j in range(int(Height))]\n",
    "    \n",
    "    return Grid"
   ]
  },
  {
   "cell_type": "code",
   "execution_count": 4,
   "id": "72200d97",
   "metadata": {},
   "outputs": [],
   "source": [
    "def Populate_Grid(Game_Grid, n, m):\n",
    "    for i in range(n):\n",
    "        for j in range(m):\n",
    "            #placing a random number in range of 0 to 9 on the grid\n",
    "            Game_Grid[i][j] = random.randint(0,9)\n",
    "            \n",
    "    return Game_Grid"
   ]
  },
  {
   "cell_type": "code",
   "execution_count": 5,
   "id": "42c6a66f",
   "metadata": {},
   "outputs": [],
   "source": [
    "def Print_Grid(Game_Grid, n, m):\n",
    "    for i in range(n):\n",
    "        for k in range(m*3):\n",
    "                print(\"_\",end = \"\")\n",
    "        print()\n",
    "        for j in range(m):\n",
    "            print(\"|\",Game_Grid[i][j], end = \"\" )\n",
    "        print(\"|\")\n",
    "    for k in range(m*3):\n",
    "            print(\"_\",end = \"\")\n",
    "    print(\"\\n\")"
   ]
  },
  {
   "cell_type": "code",
   "execution_count": 6,
   "id": "156da770",
   "metadata": {},
   "outputs": [],
   "source": [
    "def Path_Taken_Visual(Game_Grid, n, m,path):\n",
    "    count = 0\n",
    "    flg = 0\n",
    "    for i in range(n):\n",
    "        for k in range(m*3):\n",
    "                print(\"_\",end = \"\")\n",
    "        print()\n",
    "        for j in range(m):\n",
    "            for cell in path:\n",
    "                if(int(cell) == count):\n",
    "                    flg = 1\n",
    "            if(flg == 1):\n",
    "                print(\"|\",\"@\", end = \"\" )\n",
    "                flg=0\n",
    "            else:\n",
    "                print(\"|\",Game_Grid[i][j], end = \"\" )\n",
    "            count = count + 1\n",
    "        print(\"|\")\n",
    "    for k in range(m*3):\n",
    "            print(\"_\",end = \"\")\n",
    "    print(\"\\n\")\n",
    "    "
   ]
  },
  {
   "cell_type": "markdown",
   "id": "6eee54d2",
   "metadata": {},
   "source": [
    "In this approach the agent start at Grid(0,0) at the left top corner and make it's way down to right bottom corner of the grid. Since we are going downwards and moving from left to right, the agent checks 3 adjacent grid blocks, the one on the right, the one on the bottom and the diagonal one on the right bottom. The agent checks the smallest among the three and moves onto that, until it has reached it's destination at the last cell of the grid."
   ]
  },
  {
   "cell_type": "code",
   "execution_count": 7,
   "id": "546a8099",
   "metadata": {},
   "outputs": [],
   "source": [
    "def shortest_path(Game_Grid, n, m):\n",
    "    path_list = [] #a list to store the path the agent takes to reach destination\n",
    "    next_i=0\n",
    "    next_j=0\n",
    "    min_num = 99\n",
    "    print(\"Current cell is:\",Game_Grid[0][0] , \"Index i: 0\" ,\"Index j: 0\")\n",
    "    for i in range(n):\n",
    "        for j in range(m):\n",
    "            if(i==0 and j==0):\n",
    "\n",
    "                current_num = Game_Grid[i][j]\n",
    "                \n",
    "                #Adding the minimum number to the path list\n",
    "                path_list.append(0)\n",
    "\n",
    "                #Checking the cell at the right \n",
    "                Right = Game_Grid[i][j+1]\n",
    "                if(min_num >= Right):\n",
    "                    min_num = Right\n",
    "                    next_i=i\n",
    "                    next_j=j+1\n",
    "                    print(\"Choose the cell at right\")\n",
    "                    \n",
    "                #Checking the cell at bottom  \n",
    "                Bottom = Game_Grid[i+1][j]\n",
    "                if(min_num >= Bottom):\n",
    "                    min_num = Bottom\n",
    "                    next_i=i+1\n",
    "                    next_j=j\n",
    "                    print(\"Choose the cell at Bottom\")\n",
    "\n",
    "                #checking the diagonal cell at the right bottom\n",
    "                Bottom_Right = Game_Grid[i+1][j+1]\n",
    "                if(min_num >= Bottom_Right):\n",
    "                    min_num = Bottom_Right\n",
    "                    next_i=i+1\n",
    "                    next_j=j+1\n",
    "                    print(\"Choose the cell at Bottom_Right\")\n",
    "\n",
    "            else:\n",
    "                \n",
    "                #this condition breaks the loop if destination is reached\n",
    "                if(next_i == n-1 and next_j == m-1):\n",
    "                    break\n",
    "                \n",
    "                temp_i=next_i\n",
    "                temp_j=next_j\n",
    "\n",
    "                current_num = Game_Grid[next_i][next_j]\n",
    "                print(\"Next cell is:\",current_num , \"Index i:\",next_i ,\"Index j:\",next_j)\n",
    "                \n",
    "                #Adding the minimum number to the path list\n",
    "                path_list.append(((next_i*m)+next_j))\n",
    "\n",
    "                min_num = 99 #set minimum to a highest number \n",
    "\n",
    "                #Checking the cell at the right \n",
    "                if(next_j < m-1):#checking if not out f bound of the matrix\n",
    "                    Right = Game_Grid[next_i][next_j+1]\n",
    "                    if(min_num >= Right):\n",
    "                        min_num = Right #selecting a new minimum number \n",
    "                        temp_i=next_i\n",
    "                        temp_j=next_j+1\n",
    "                        print(\"Choose the cell at right\")\n",
    "                        \n",
    "                #Checking the cell at the Bottom \n",
    "                if(next_i < n-1): #checking if not out f bound of the matrix\n",
    "                    Bottom = Game_Grid[next_i+1][next_j]\n",
    "                    if(min_num >= Bottom):\n",
    "                        min_num = Bottom #selecting a new minimum number \n",
    "                        temp_i=next_i+1\n",
    "                        temp_j=next_j\n",
    "                        print(\"Choose the cell at Bottom\")\n",
    "\n",
    "                \n",
    "                #Checking the cell at the Bottom_Right \n",
    "                if(next_i < n-1 and next_j < m-1):#checking if not out f bound of the matrix\n",
    "                    Bottom_Right = Game_Grid[next_i+1][next_j+1]\n",
    "                    if(min_num >= Bottom_Right):\n",
    "                        min_num = Bottom_Right #selecting a new minimum number \n",
    "                        temp_i=next_i+1\n",
    "                        temp_j=next_j+1\n",
    "                        print(\"Choose the cell at Bottom_Right\")\n",
    "                \n",
    "                #setting new i and j values \n",
    "                next_i=temp_i\n",
    "                next_j=temp_j\n",
    "\n",
    "    print(\"Next cell is:\",current_num , \"Index i:\",next_i ,\"Index j:\",next_j,\"\\n\\n\")        \n",
    "    path_list.append(((next_i*m)+next_j))\n",
    "    return path_list"
   ]
  },
  {
   "cell_type": "code",
   "execution_count": 8,
   "id": "e9267c68",
   "metadata": {},
   "outputs": [],
   "source": [
    "#In this function we store the whole grid as a graph. We are going to assign each cell of the grid a number. Suppose if the grid \n",
    "# is 5x5, that means there are 24 elements in the grid from 0 to 24. we assign each corresponding cell that number, take it's \n",
    "# 4 neigbours (up,down,left,right), and assign them the the value stored at the position as it's weight or distance, in the \n",
    "# graph as edges.\n",
    "\n",
    "def Conver_Grid_to_Graph(Grid,h,w):\n",
    "    Grid_graph = { } #creating dictionary\n",
    "    count = 0\n",
    "    for i in range(h):\n",
    "        for j in range(w):\n",
    "            Grid_graph[str(count)] = {} #creating nested dictionary\n",
    "\n",
    "            #top  cell block\n",
    "            if(i > 0):#checking if not out of bounds\n",
    "                up = Grid[i-1][j]\n",
    "                Grid_graph[str(count)][str(abs(count-w))] = up #Storing in the dictionary as a neighbour\n",
    "\n",
    "            #bottom  cell block\n",
    "            if(i < h-1):  #checking if not out of bounds\n",
    "                down = Grid[i+1][j]\n",
    "                Grid_graph[str(count)][str(abs(count+w))] = down #Storing in the dictionary as a neighbour\n",
    "\n",
    "            #right cell block\n",
    "            if(j < w-1): #checking if not out of bounds\n",
    "                right = Grid[i][j+1]\n",
    "                Grid_graph[str(count)][str(abs(count+1))] = right #Storing in the dictionary as a neighbour\n",
    "\n",
    "            #left cell block\n",
    "            if(j > 0): #checking if not out of bounds\n",
    "                left = Grid[i][j-1]\n",
    "                Grid_graph[str(count)][str(abs(count-1))] = left #Storing in the dictionary as a neighbour\n",
    "\n",
    "            count = count + 1\n",
    "        \n",
    "    return Grid_graph"
   ]
  },
  {
   "cell_type": "code",
   "execution_count": 9,
   "id": "3b8c298b",
   "metadata": {},
   "outputs": [],
   "source": [
    "def Dijkstra_Algo(graph, start,end):\n",
    "    Distances = {start: 0}\n",
    "    visited = set()\n",
    "    Path = {start: None}\n",
    "    queue = PriorityQueue()\n",
    "    queue.put((0, start))\n",
    "    \n",
    "    while queue:\n",
    "        _, edge = queue.get() # finds lowest cost edge of the graph\n",
    "        \n",
    "        if edge in visited: #if taht edge has already been visited we do not need to loop again\n",
    "            continue\n",
    "        \n",
    "        visited.add(edge)#if edge is not visited, just add it to the visited set\n",
    "\n",
    "\n",
    "        if edge == end: #If our goal has been found, exit the loop\n",
    "            break\n",
    "\n",
    "\n",
    "        for neighbor, distance in graph[edge].items():\n",
    "            if neighbor in visited: \n",
    "                continue # we don't want to go over the alrady visted edges again, so we'll just skip them to save time\n",
    "            max_dist = Distances.get(neighbor, float('inf')) #to choose a new minimun distance we set the ma distance to infinity and is by default infinity\n",
    "            new_dist = Distances[edge] + distance\n",
    "            if new_dist < max_dist: #if a new minimum distance is found, add that to the queue and update the distance to that neighbour\n",
    "                queue.put((new_dist, neighbor))\n",
    "                Distances[neighbor] = new_dist\n",
    "                Path[neighbor] = edge\n",
    "\n",
    "    return Path"
   ]
  },
  {
   "cell_type": "code",
   "execution_count": 10,
   "id": "f97e1268",
   "metadata": {},
   "outputs": [],
   "source": [
    "def Optimal_path_finder(path, end):\n",
    "    if end not in path:\n",
    "        return None\n",
    "    vertex = end\n",
    "    temp = vertex\n",
    "    temp_list = []\n",
    "    temp = temp + vertex\n",
    "    temp = temp + end\n",
    "    short_path = []\n",
    "    while vertex is not None:\n",
    "        short_path.append(vertex)\n",
    "        temp = temp + vertex\n",
    "        vertex = path[vertex]\n",
    "    return short_path[::-1]"
   ]
  },
  {
   "cell_type": "code",
   "execution_count": 11,
   "id": "a8898255",
   "metadata": {},
   "outputs": [],
   "source": [
    "#this function recives the shortest past found, takes the distance on that path, sum that distance and return the total shortest distance \n",
    "def get_total_dist(shortest_path,Game_Grid):\n",
    "    path_len = 0\n",
    "    count=0\n",
    "    for i in range(n):\n",
    "        for j in range(m):\n",
    "            for d in shortest_path:\n",
    "                if(count == int(d)):\n",
    "                    path_len = path_len + Game_Grid[i][j]\n",
    "            count = count + 1\n",
    "    \n",
    "    return path_len"
   ]
  },
  {
   "cell_type": "code",
   "execution_count": 12,
   "id": "9fc4184a",
   "metadata": {},
   "outputs": [],
   "source": [
    "#this function recives the shortest past found, takes the distance on that path, sum that distance and return the total shortest distance \n",
    "def get_timeline(shortest_path,Game_Grid):\n",
    "    path_len = 0\n",
    "    count=0\n",
    "    timestep = []\n",
    "    for i in range(n):\n",
    "        for j in range(m):\n",
    "            for d in shortest_path:\n",
    "                if(count == int(d)):\n",
    "                    path_len = path_len + Game_Grid[i][j]\n",
    "                    timestep.append(path_len)\n",
    "            count = count + 1\n",
    "    \n",
    "    return timestep"
   ]
  },
  {
   "cell_type": "code",
   "execution_count": 13,
   "id": "e8be421d",
   "metadata": {},
   "outputs": [],
   "source": [
    "#This function display the index of the of cell, the time step spent on that cell\n",
    "def Print_Path_Taken(Game_Grid, n, m,path):\n",
    "    count = 0\n",
    "    for i in range(n):\n",
    "        for j in range(m):\n",
    "            for cell in path:\n",
    "                if(count == int(cell)):\n",
    "                    print(\"(\", i,\" , \", j,\")\" ,\" : \", Game_Grid[i][j])\n",
    "            count = count + 1"
   ]
  },
  {
   "cell_type": "code",
   "execution_count": 14,
   "id": "1eb4660e",
   "metadata": {},
   "outputs": [
    {
     "name": "stdout",
     "output_type": "stream",
     "text": [
      "Kindly input Height and Width of the grid\n",
      "Height: 6\n",
      "Width: 7\n",
      "Creating Grid\n",
      "\n",
      "Game Grid of :  6  x  7 Created Sucessfully\n",
      "\n",
      "\n",
      "Populating Grid the grid with random values\n",
      "\n",
      "\n",
      "_____________________\n",
      "| 7| 6| 3| 2| 6| 6| 2|\n",
      "_____________________\n",
      "| 1| 1| 4| 7| 4| 3| 7|\n",
      "_____________________\n",
      "| 6| 5| 3| 1| 2| 9| 6|\n",
      "_____________________\n",
      "| 8| 0| 5| 1| 2| 0| 1|\n",
      "_____________________\n",
      "| 9| 9| 0| 2| 6| 8| 8|\n",
      "_____________________\n",
      "| 8| 9| 3| 7| 4| 4| 3|\n",
      "_____________________\n",
      "\n"
     ]
    }
   ],
   "source": [
    "#Taking input for creating a variable size grid \n",
    "\n",
    "print(\"Kindly input Height and Width of the grid\")\n",
    "Height = input(\"Height: \")\n",
    "Width = input(\"Width: \")\n",
    "\n",
    "\n",
    "n = int(Height)\n",
    "m = int(Width)\n",
    "\n",
    "#creating the grid as required by the user\n",
    "Game_Grid = Create_Grid(n,m)\n",
    "\n",
    "print(\"Game Grid of : \", n , \" x \", m, \"Created Sucessfully\\n\\n\")\n",
    "\n",
    "print(\"Populating Grid the grid with random values\\n\\n\")\n",
    "\n",
    "#This function populates the grid with random values\n",
    "Game_Grid = Populate_Grid(Game_Grid, n, m)\n",
    "\n",
    "#printing the grid\n",
    "Print_Grid(Game_Grid, n, m)"
   ]
  },
  {
   "cell_type": "code",
   "execution_count": 14,
   "id": "918e50d7",
   "metadata": {},
   "outputs": [
    {
     "name": "stdout",
     "output_type": "stream",
     "text": [
      "Iterating the grid to find the shortest path using a basic algorithm\n",
      "\n",
      "\n",
      "Current cell is: 3 Index i: 0 Index j: 0\n",
      "Choose the cell at right\n",
      "Next cell is: 4 Index i: 0 Index j: 1\n",
      "Choose the cell at right\n",
      "Choose the cell at Bottom_Right\n",
      "Next cell is: 3 Index i: 1 Index j: 2\n",
      "Choose the cell at right\n",
      "Next cell is: 7 Index i: 1 Index j: 3\n",
      "Choose the cell at right\n",
      "Choose the cell at Bottom_Right\n",
      "Next cell is: 1 Index i: 2 Index j: 4\n",
      "Choose the cell at right\n",
      "Choose the cell at Bottom_Right\n",
      "Next cell is: 2 Index i: 3 Index j: 5\n",
      "Choose the cell at right\n",
      "Next cell is: 0 Index i: 3 Index j: 6\n",
      "Choose the cell at right\n",
      "Choose the cell at Bottom_Right\n",
      "Next cell is: 3 Index i: 4 Index j: 7\n",
      "Choose the cell at right\n",
      "Choose the cell at Bottom\n",
      "Choose the cell at Bottom_Right\n",
      "Next cell is: 1 Index i: 5 Index j: 8\n",
      "Choose the cell at right\n",
      "Next cell is: 4 Index i: 5 Index j: 9\n",
      "Choose the cell at Bottom\n",
      "Next cell is: 6 Index i: 6 Index j: 9\n",
      "Choose the cell at Bottom\n",
      "Next cell is: 4 Index i: 7 Index j: 9\n",
      "Choose the cell at Bottom\n",
      "Next cell is: 7 Index i: 8 Index j: 9\n",
      "Choose the cell at Bottom\n",
      "Next cell is: 7 Index i: 9 Index j: 9 \n",
      "\n",
      "\n",
      "The shortest path is :  [0, 1, 12, 13, 24, 35, 36, 47, 58, 59, 69, 79, 89, 99] \n",
      "\n",
      "\n",
      "The path taken in form of (Cell index i, cell index j) : Time step of that cell\n",
      "\n",
      "( 0  ,  0 )  :  3\n",
      "( 0  ,  1 )  :  4\n",
      "( 1  ,  2 )  :  3\n",
      "( 1  ,  3 )  :  7\n",
      "( 2  ,  4 )  :  1\n",
      "( 3  ,  5 )  :  2\n",
      "( 3  ,  6 )  :  0\n",
      "( 4  ,  7 )  :  3\n",
      "( 5  ,  8 )  :  1\n",
      "( 5  ,  9 )  :  4\n",
      "( 6  ,  9 )  :  6\n",
      "( 7  ,  9 )  :  4\n",
      "( 8  ,  9 )  :  7\n",
      "( 9  ,  9 )  :  1\n",
      "\n",
      "Total time it took is:  46 \n",
      "\n",
      "\n"
     ]
    }
   ],
   "source": [
    "print(\"Iterating the grid to find the shortest path using a basic algorithm\\n\\n\")\n",
    "#Naive approach for shortest path\n",
    "shortest_path_list = shortest_path(Game_Grid, n, m)\n",
    "\n",
    "print(\"The shortest path is : \", shortest_path_list , \"\\n\\n\")\n",
    "\n",
    "print(\"The path taken in form of (Cell index i, cell index j) : Time step of that cell\\n\")\n",
    "Print_Path_Taken(Game_Grid, n, m,shortest_path_list)\n",
    "\n",
    "print()\n",
    "\n",
    "p_len_naieve = get_total_dist(shortest_path_list,Game_Grid)\n",
    "print(\"Total time it took is: \" ,p_len_naieve,\"\\n\\n\")"
   ]
  },
  {
   "cell_type": "code",
   "execution_count": 15,
   "id": "3f024a86",
   "metadata": {},
   "outputs": [
    {
     "name": "stdout",
     "output_type": "stream",
     "text": [
      "The path taken by naive algorith : \n",
      "\n",
      "______________________________\n",
      "| @| @| 7| 6| 6| 4| 8| 7| 8| 8|\n",
      "______________________________\n",
      "| 5| 9| @| @| 6| 0| 7| 8| 9| 8|\n",
      "______________________________\n",
      "| 9| 7| 8| 9| @| 3| 5| 9| 5| 1|\n",
      "______________________________\n",
      "| 1| 0| 7| 3| 5| @| @| 3| 5| 4|\n",
      "______________________________\n",
      "| 8| 6| 2| 6| 4| 3| 6| @| 7| 2|\n",
      "______________________________\n",
      "| 6| 3| 9| 9| 3| 4| 3| 6| @| @|\n",
      "______________________________\n",
      "| 4| 7| 5| 8| 0| 5| 3| 2| 9| @|\n",
      "______________________________\n",
      "| 0| 7| 4| 5| 1| 9| 6| 8| 4| @|\n",
      "______________________________\n",
      "| 6| 7| 7| 0| 2| 7| 7| 1| 3| @|\n",
      "______________________________\n",
      "| 2| 3| 6| 0| 9| 3| 6| 5| 6| @|\n",
      "______________________________\n",
      "\n"
     ]
    }
   ],
   "source": [
    "print(\"The path taken by naive algorith : \\n\")\n",
    "Path_Taken_Visual(Game_Grid, n, m,shortest_path_list)"
   ]
  },
  {
   "cell_type": "code",
   "execution_count": 16,
   "id": "35bf73b7",
   "metadata": {},
   "outputs": [
    {
     "data": {
      "image/png": "[encoded data removed]",
      "text/plain": [
       "<Figure size 432x288 with 1 Axes>"
      ]
     },
     "metadata": {
      "needs_background": "light"
     },
     "output_type": "display_data"
    }
   ],
   "source": [
    "#define figure and axes\n",
    "fig, ax = plt.subplots()\n",
    "\n",
    "#hide the axes\n",
    "fig.patch.set_visible(False)\n",
    "ax.axis('off')\n",
    "ax.axis('tight')\n",
    "\n",
    "#create data\n",
    "df = pd.DataFrame(Game_Grid)\n",
    "\n",
    "#create table\n",
    "table = ax.table(cellText=df.values, loc='center')\n",
    "\n",
    "count = 0\n",
    "for i in range(n):\n",
    "    for j in range(m):\n",
    "        for cell in shortest_path_list:\n",
    "            if(count == int(cell)):\n",
    "                table[(i, j)].set_facecolor(\"#fdfa56\")\n",
    "        count = count + 1\n",
    "\n",
    "fig.tight_layout()\n",
    "plt.show()"
   ]
  },
  {
   "cell_type": "code",
   "execution_count": 17,
   "id": "f2318835",
   "metadata": {},
   "outputs": [
    {
     "name": "stdout",
     "output_type": "stream",
     "text": [
      "Using Dijkstra's Algorithm to find the shortest optimal path\n",
      "\n",
      "\n",
      "Converting the 2D grid into a graph based on it's neigbours and weights\n",
      "\n",
      "Printing the Grid Graph : \n",
      "\n",
      "Cell no :  { Neighbouring cell : Weight} \n",
      "\n",
      "0  :  {'10': 5, '1': 4}\n",
      "1  :  {'11': 9, '2': 7, '0': 3}\n",
      "2  :  {'12': 3, '3': 6, '1': 4}\n",
      "3  :  {'13': 7, '4': 6, '2': 7}\n",
      "4  :  {'14': 6, '5': 4, '3': 6}\n",
      "5  :  {'15': 0, '6': 8, '4': 6}\n",
      "6  :  {'16': 7, '7': 7, '5': 4}\n",
      "7  :  {'17': 8, '8': 8, '6': 8}\n",
      "8  :  {'18': 9, '9': 8, '7': 7}\n",
      "9  :  {'19': 8, '8': 8}\n",
      "10  :  {'0': 3, '20': 9, '11': 9}\n",
      "11  :  {'1': 4, '21': 7, '12': 3, '10': 5}\n",
      "12  :  {'2': 7, '22': 8, '13': 7, '11': 9}\n",
      "13  :  {'3': 6, '23': 9, '14': 6, '12': 3}\n",
      "14  :  {'4': 6, '24': 1, '15': 0, '13': 7}\n",
      "15  :  {'5': 4, '25': 3, '16': 7, '14': 6}\n",
      "16  :  {'6': 8, '26': 5, '17': 8, '15': 0}\n",
      "17  :  {'7': 7, '27': 9, '18': 9, '16': 7}\n",
      "18  :  {'8': 8, '28': 5, '19': 8, '17': 8}\n",
      "19  :  {'9': 8, '29': 1, '18': 9}\n",
      "20  :  {'10': 5, '30': 1, '21': 7}\n",
      "21  :  {'11': 9, '31': 0, '22': 8, '20': 9}\n",
      "22  :  {'12': 3, '32': 7, '23': 9, '21': 7}\n",
      "23  :  {'13': 7, '33': 3, '24': 1, '22': 8}\n",
      "24  :  {'14': 6, '34': 5, '25': 3, '23': 9}\n",
      "25  :  {'15': 0, '35': 2, '26': 5, '24': 1}\n",
      "26  :  {'16': 7, '36': 0, '27': 9, '25': 3}\n",
      "27  :  {'17': 8, '37': 3, '28': 5, '26': 5}\n",
      "28  :  {'18': 9, '38': 5, '29': 1, '27': 9}\n",
      "29  :  {'19': 8, '39': 4, '28': 5}\n",
      "30  :  {'20': 9, '40': 8, '31': 0}\n",
      "31  :  {'21': 7, '41': 6, '32': 7, '30': 1}\n",
      "32  :  {'22': 8, '42': 2, '33': 3, '31': 0}\n",
      "33  :  {'23': 9, '43': 6, '34': 5, '32': 7}\n",
      "34  :  {'24': 1, '44': 4, '35': 2, '33': 3}\n",
      "35  :  {'25': 3, '45': 3, '36': 0, '34': 5}\n",
      "36  :  {'26': 5, '46': 6, '37': 3, '35': 2}\n",
      "37  :  {'27': 9, '47': 3, '38': 5, '36': 0}\n",
      "38  :  {'28': 5, '48': 7, '39': 4, '37': 3}\n",
      "39  :  {'29': 1, '49': 2, '38': 5}\n",
      "40  :  {'30': 1, '50': 6, '41': 6}\n",
      "41  :  {'31': 0, '51': 3, '42': 2, '40': 8}\n",
      "42  :  {'32': 7, '52': 9, '43': 6, '41': 6}\n",
      "43  :  {'33': 3, '53': 9, '44': 4, '42': 2}\n",
      "44  :  {'34': 5, '54': 3, '45': 3, '43': 6}\n",
      "45  :  {'35': 2, '55': 4, '46': 6, '44': 4}\n",
      "46  :  {'36': 0, '56': 3, '47': 3, '45': 3}\n",
      "47  :  {'37': 3, '57': 6, '48': 7, '46': 6}\n",
      "48  :  {'38': 5, '58': 1, '49': 2, '47': 3}\n",
      "49  :  {'39': 4, '59': 4, '48': 7}\n",
      "50  :  {'40': 8, '60': 4, '51': 3}\n",
      "51  :  {'41': 6, '61': 7, '52': 9, '50': 6}\n",
      "52  :  {'42': 2, '62': 5, '53': 9, '51': 3}\n",
      "53  :  {'43': 6, '63': 8, '54': 3, '52': 9}\n",
      "54  :  {'44': 4, '64': 0, '55': 4, '53': 9}\n",
      "55  :  {'45': 3, '65': 5, '56': 3, '54': 3}\n",
      "56  :  {'46': 6, '66': 3, '57': 6, '55': 4}\n",
      "57  :  {'47': 3, '67': 2, '58': 1, '56': 3}\n",
      "58  :  {'48': 7, '68': 9, '59': 4, '57': 6}\n",
      "59  :  {'49': 2, '69': 6, '58': 1}\n",
      "60  :  {'50': 6, '70': 0, '61': 7}\n",
      "61  :  {'51': 3, '71': 7, '62': 5, '60': 4}\n",
      "62  :  {'52': 9, '72': 4, '63': 8, '61': 7}\n",
      "63  :  {'53': 9, '73': 5, '64': 0, '62': 5}\n",
      "64  :  {'54': 3, '74': 1, '65': 5, '63': 8}\n",
      "65  :  {'55': 4, '75': 9, '66': 3, '64': 0}\n",
      "66  :  {'56': 3, '76': 6, '67': 2, '65': 5}\n",
      "67  :  {'57': 6, '77': 8, '68': 9, '66': 3}\n",
      "68  :  {'58': 1, '78': 4, '69': 6, '67': 2}\n",
      "69  :  {'59': 4, '79': 4, '68': 9}\n",
      "70  :  {'60': 4, '80': 6, '71': 7}\n",
      "71  :  {'61': 7, '81': 7, '72': 4, '70': 0}\n",
      "72  :  {'62': 5, '82': 7, '73': 5, '71': 7}\n",
      "73  :  {'63': 8, '83': 0, '74': 1, '72': 4}\n",
      "74  :  {'64': 0, '84': 2, '75': 9, '73': 5}\n",
      "75  :  {'65': 5, '85': 7, '76': 6, '74': 1}\n",
      "76  :  {'66': 3, '86': 7, '77': 8, '75': 9}\n",
      "77  :  {'67': 2, '87': 1, '78': 4, '76': 6}\n",
      "78  :  {'68': 9, '88': 3, '79': 4, '77': 8}\n",
      "79  :  {'69': 6, '89': 7, '78': 4}\n",
      "80  :  {'70': 0, '90': 2, '81': 7}\n",
      "81  :  {'71': 7, '91': 3, '82': 7, '80': 6}\n",
      "82  :  {'72': 4, '92': 6, '83': 0, '81': 7}\n",
      "83  :  {'73': 5, '93': 0, '84': 2, '82': 7}\n",
      "84  :  {'74': 1, '94': 9, '85': 7, '83': 0}\n",
      "85  :  {'75': 9, '95': 3, '86': 7, '84': 2}\n",
      "86  :  {'76': 6, '96': 6, '87': 1, '85': 7}\n",
      "87  :  {'77': 8, '97': 5, '88': 3, '86': 7}\n",
      "88  :  {'78': 4, '98': 6, '89': 7, '87': 1}\n",
      "89  :  {'79': 4, '99': 1, '88': 3}\n",
      "90  :  {'80': 6, '91': 3}\n",
      "91  :  {'81': 7, '92': 6, '90': 2}\n",
      "92  :  {'82': 7, '93': 0, '91': 3}\n",
      "93  :  {'83': 0, '94': 9, '92': 6}\n",
      "94  :  {'84': 2, '95': 3, '93': 0}\n",
      "95  :  {'85': 7, '96': 6, '94': 9}\n",
      "96  :  {'86': 7, '97': 5, '95': 3}\n",
      "97  :  {'87': 1, '98': 6, '96': 6}\n",
      "98  :  {'88': 3, '99': 1, '97': 5}\n",
      "99  :  {'89': 7, '98': 6}\n"
     ]
    }
   ],
   "source": [
    "print(\"Using Dijkstra's Algorithm to find the shortest optimal path\\n\\n\")\n",
    "print(\"Converting the 2D grid into a graph based on it's neigbours and weights\\n\")\n",
    "\n",
    "#converting the 2D grid into graph\n",
    "Grid_graph =  Conver_Grid_to_Graph(Game_Grid,n,m)         \n",
    "\n",
    "\n",
    "print(\"Printing the Grid Graph : \\n\")\n",
    "\n",
    "print(\"Cell no : \", \"{\",\"Neighbouring cell\",\":\",\"Weight\"\"}\",\"\\n\")\n",
    "\n",
    "\n",
    "#loop to print the Grid Graph\n",
    "for key,val in Grid_graph.items():\n",
    "    print(key , \" : \", val)"
   ]
  },
  {
   "cell_type": "code",
   "execution_count": 18,
   "id": "2cd64342",
   "metadata": {},
   "outputs": [
    {
     "name": "stdout",
     "output_type": "stream",
     "text": [
      "Running Dijkstra's algorithm on the Graph \n",
      "\n",
      "Finding the Optimal Path\n",
      "\n",
      "Optimal Path is :  ['0', '10', '20', '30', '31', '41', '42', '43', '44', '54', '64', '74', '84', '85', '86', '87', '88', '98', '99'] \n",
      "\n",
      "The path taken in form of (Cell index i, cell index j) : Time step of that cell\n",
      "\n",
      "( 0  ,  0 )  :  3\n",
      "( 1  ,  0 )  :  5\n",
      "( 2  ,  0 )  :  9\n",
      "( 3  ,  0 )  :  1\n",
      "( 3  ,  1 )  :  0\n",
      "( 4  ,  1 )  :  6\n",
      "( 4  ,  2 )  :  2\n",
      "( 4  ,  3 )  :  6\n",
      "( 4  ,  4 )  :  4\n",
      "( 5  ,  4 )  :  3\n",
      "( 6  ,  4 )  :  0\n",
      "( 7  ,  4 )  :  1\n",
      "( 8  ,  4 )  :  2\n",
      "( 8  ,  5 )  :  7\n",
      "( 8  ,  6 )  :  7\n",
      "( 8  ,  7 )  :  1\n",
      "( 8  ,  8 )  :  3\n",
      "( 9  ,  8 )  :  6\n",
      "( 9  ,  9 )  :  1\n",
      "\n",
      "Total time it took :  67 \n",
      "\n"
     ]
    }
   ],
   "source": [
    "print(\"Running Dijkstra's algorithm on the Graph \\n\")\n",
    "end = str((n*m)-1)\n",
    "path = Dijkstra_Algo(Grid_graph, '0', end)\n",
    "\n",
    "print(\"Finding the Optimal Path\\n\")\n",
    "shortest_path = Optimal_path_finder(path, end)\n",
    "\n",
    "print(\"Optimal Path is : \", shortest_path,\"\\n\")\n",
    "\n",
    "print(\"The path taken in form of (Cell index i, cell index j) : Time step of that cell\\n\")\n",
    "Print_Path_Taken(Game_Grid, n, m,shortest_path)\n",
    "print()\n",
    "\n",
    "p_len_dij = get_total_dist(shortest_path,Game_Grid)\n",
    "print(\"Total time it took : \" ,p_len_dij,\"\\n\")"
   ]
  },
  {
   "cell_type": "code",
   "execution_count": 19,
   "id": "4526da6f",
   "metadata": {},
   "outputs": [
    {
     "name": "stdout",
     "output_type": "stream",
     "text": [
      "The path taken by Dijkstra algorith : \n",
      "\n",
      "______________________________\n",
      "| @| 4| 7| 6| 6| 4| 8| 7| 8| 8|\n",
      "______________________________\n",
      "| @| 9| 3| 7| 6| 0| 7| 8| 9| 8|\n",
      "______________________________\n",
      "| @| 7| 8| 9| 1| 3| 5| 9| 5| 1|\n",
      "______________________________\n",
      "| @| @| 7| 3| 5| 2| 0| 3| 5| 4|\n",
      "______________________________\n",
      "| 8| @| @| @| @| 3| 6| 3| 7| 2|\n",
      "______________________________\n",
      "| 6| 3| 9| 9| @| 4| 3| 6| 1| 4|\n",
      "______________________________\n",
      "| 4| 7| 5| 8| @| 5| 3| 2| 9| 6|\n",
      "______________________________\n",
      "| 0| 7| 4| 5| @| 9| 6| 8| 4| 4|\n",
      "______________________________\n",
      "| 6| 7| 7| 0| @| @| @| @| @| 7|\n",
      "______________________________\n",
      "| 2| 3| 6| 0| 9| 3| 6| 5| @| @|\n",
      "______________________________\n",
      "\n"
     ]
    }
   ],
   "source": [
    "print(\"The path taken by Dijkstra algorith : \\n\")\n",
    "Path_Taken_Visual(Game_Grid, n, m,shortest_path)"
   ]
  },
  {
   "cell_type": "code",
   "execution_count": 20,
   "id": "288ec78a",
   "metadata": {},
   "outputs": [
    {
     "data": {
      "image/png": "[encoded data removed]",
      "text/plain": [
       "<Figure size 432x288 with 1 Axes>"
      ]
     },
     "metadata": {
      "needs_background": "light"
     },
     "output_type": "display_data"
    }
   ],
   "source": [
    "#define figure and axes\n",
    "fig, ax = plt.subplots()\n",
    "\n",
    "#hide the axes\n",
    "fig.patch.set_visible(False)\n",
    "ax.axis('off')\n",
    "ax.axis('tight')\n",
    "\n",
    "#create data\n",
    "df = pd.DataFrame(Game_Grid)\n",
    "\n",
    "#create table\n",
    "table = ax.table(cellText=df.values, loc='center')\n",
    "\n",
    "count = 0\n",
    "for i in range(n):\n",
    "    for j in range(m):\n",
    "        for cell in shortest_path:\n",
    "            if(count == int(cell)):\n",
    "                table[(i, j)].set_facecolor(\"#56fd5c\")\n",
    "        count = count + 1\n",
    "\n",
    "fig.tight_layout()\n",
    "plt.show()"
   ]
  },
  {
   "cell_type": "code",
   "execution_count": 21,
   "id": "fdd29d27",
   "metadata": {},
   "outputs": [],
   "source": [
    "time_dij = []\n",
    "time_naive = []\n",
    "time_dij = get_timeline(shortest_path,Game_Grid)\n",
    "time_naive = get_timeline(shortest_path_list,Game_Grid)"
   ]
  },
  {
   "cell_type": "code",
   "execution_count": 22,
   "id": "28984457",
   "metadata": {},
   "outputs": [
    {
     "data": {
      "image/png": "[encoded data removed]",
      "text/plain": [
       "<Figure size 432x288 with 1 Axes>"
      ]
     },
     "metadata": {
      "needs_background": "light"
     },
     "output_type": "display_data"
    }
   ],
   "source": [
    "# line of Dijkstra algo\n",
    "x1 = time_dij\n",
    "y1 = [x for x in range(len(time_dij))]\n",
    "plt.plot(x1, y1, label = \"Dijkstra\")\n",
    "  \n",
    "# line of naive algo\n",
    "x2 = time_naive\n",
    "y2 = [x for x in range(len(time_naive))]\n",
    "plt.plot(x2, y2, label = \"Naive\")\n",
    "  \n",
    "\n",
    "plt.xlabel('Time Step')\n",
    "\n",
    "plt.ylabel('Cell no')\n",
    "\n",
    "plt.title('Time step compasrrison of Naive and Dijkstra algorithm')\n",
    "\n",
    "plt.legend()\n",
    "plt.show()"
   ]
  },
  {
   "cell_type": "code",
   "execution_count": 23,
   "id": "736b71be",
   "metadata": {},
   "outputs": [
    {
     "data": {
      "image/png": "[encoded data removed]",
      "text/plain": [
       "<Figure size 720x360 with 1 Axes>"
      ]
     },
     "metadata": {
      "needs_background": "light"
     },
     "output_type": "display_data"
    }
   ],
   "source": [
    "# creating the dataset\n",
    "data = {'Dijkstra':p_len_dij , 'Naive':p_len_naieve}\n",
    "Algo = list(data.keys())\n",
    "Timestep = list(data.values())\n",
    "  \n",
    "fig = plt.figure(figsize = (10, 5))\n",
    " \n",
    "# creating the bar plot\n",
    "plt.bar(Algo, Timestep)\n",
    " \n",
    "plt.xlabel(\"Algorithm\")\n",
    "plt.ylabel(\"Total time step\")\n",
    "# plt.title(\"Students enrolled in different courses\")\n",
    "plt.show()"
   ]
  },
  {
   "cell_type": "code",
   "execution_count": 24,
   "id": "f80567f9",
   "metadata": {},
   "outputs": [
    {
     "data": {
      "image/png": "[encoded data removed]",
      "text/plain": [
       "<Figure size 432x288 with 1 Axes>"
      ]
     },
     "metadata": {
      "needs_background": "light"
     },
     "output_type": "display_data"
    }
   ],
   "source": [
    "width = [m,m]\n",
    "Total_time = [p_len_dij,p_len_naieve]\n",
    "index = ['Dijkstra' , 'Naive']\n",
    "df = pd.DataFrame({'width': width,\n",
    "                   'Total_time': Total_time}, index=index)\n",
    "ax = df.plot.bar(rot=0)"
   ]
  },
  {
   "cell_type": "code",
   "execution_count": 25,
   "id": "c79420da",
   "metadata": {},
   "outputs": [
    {
     "data": {
      "image/png": "[encoded data removed]",
      "text/plain": [
       "<Figure size 432x288 with 1 Axes>"
      ]
     },
     "metadata": {
      "needs_background": "light"
     },
     "output_type": "display_data"
    }
   ],
   "source": [
    "height = [n,n]\n",
    "Total_time = [p_len_dij,p_len_naieve]\n",
    "index = ['Dijkstra' , 'Naive']\n",
    "df = pd.DataFrame({'height': height,\n",
    "                   'Total_time': Total_time}, index=index)\n",
    "ax = df.plot.bar(rot=0)"
   ]
  },
  {
   "cell_type": "code",
   "execution_count": null,
   "id": "2d5e3ec9",
   "metadata": {},
   "outputs": [],
   "source": []
  },
  {
   "cell_type": "markdown",
   "id": "bcd7adde",
   "metadata": {},
   "source": [
    "At times the total distance given by naive approach is less than the distance given by Dijkstra. That is because the naive approach moves diagonally and downwards only, straight towards the goal, where as Dijkstra checks all the 8 edges of a cell and move accordingly. "
   ]
  }
 ],
 "metadata": {
  "kernelspec": {
   "display_name": "Python 3 (ipykernel)",
   "language": "python",
   "name": "python3"
  },
  "language_info": {
   "codemirror_mode": {
    "name": "ipython",
    "version": 3
   },
   "file_extension": ".py",
   "mimetype": "text/x-python",
   "name": "python",
   "nbconvert_exporter": "python",
   "pygments_lexer": "ipython3",
   "version": "3.9.7"
  }
 },
 "nbformat": 4,
 "nbformat_minor": 5
}
